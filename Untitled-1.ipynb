{
 "cells": [
  {
   "cell_type": "code",
   "execution_count": 23,
   "id": "aaf36739",
   "metadata": {},
   "outputs": [
    {
     "name": "stdout",
     "output_type": "stream",
     "text": [
      "Requirement already satisfied: numpy in ./.venv/lib/python3.13/site-packages (2.3.0)\n",
      "Note: you may need to restart the kernel to use updated packages.\n",
      "Requirement already satisfied: pandas in ./.venv/lib/python3.13/site-packages (2.3.0)\n",
      "Requirement already satisfied: numpy>=1.26.0 in ./.venv/lib/python3.13/site-packages (from pandas) (2.3.0)\n",
      "Requirement already satisfied: python-dateutil>=2.8.2 in ./.venv/lib/python3.13/site-packages (from pandas) (2.9.0.post0)\n",
      "Requirement already satisfied: pytz>=2020.1 in ./.venv/lib/python3.13/site-packages (from pandas) (2025.2)\n",
      "Requirement already satisfied: tzdata>=2022.7 in ./.venv/lib/python3.13/site-packages (from pandas) (2025.2)\n",
      "Requirement already satisfied: six>=1.5 in ./.venv/lib/python3.13/site-packages (from python-dateutil>=2.8.2->pandas) (1.17.0)\n",
      "Note: you may need to restart the kernel to use updated packages.\n"
     ]
    }
   ],
   "source": [
    "%pip install numpy\n",
    "%pip install pandas"
   ]
  },
  {
   "cell_type": "code",
   "execution_count": 6,
   "id": "5f14acb8",
   "metadata": {},
   "outputs": [
    {
     "name": "stdout",
     "output_type": "stream",
     "text": [
      "Iteration 0, a: 1.4154361430060367e-12, b: 1.0595220191698492e-08, grad_a: -1.4154361430060368e-09, grad_b: -1.0595220191698492e-05\n",
      "Iteration 10, a: 1.5421384508309974e-11, b: 1.1538891281995631e-07, grad_a: -1.3885327398796599e-09, grad_b: -1.0385212788035623e-05\n",
      "Iteration 20, a: 2.916124053067226e-11, b: 2.181054941743848e-07, grad_a: -1.362162587831237e-09, grad_b: -1.0179367932087568e-05\n",
      "Iteration 30, a: 4.2640278413798445e-11, b: 3.187861345881602e-07, grad_a: -1.3363151173145651e-09, grad_b: -9.97760311817154e-06\n",
      "Iteration 40, a: 5.586366782162867e-11, b: 4.174711883590676e-07, grad_a: -1.3109799682813094e-09, grad_b: -9.779837475952128e-06\n",
      "Iteration 50, a: 6.883647595041537e-11, b: 5.142002099240805e-07, grad_a: -1.2861469860293376e-09, grad_b: -9.585991738015719e-06\n",
      "Iteration 60, a: 8.15636695597336e-11, b: 6.09011969713388e-07, grad_a: -1.261806217132422e-09, grad_b: -9.39598820811018e-06\n",
      "Iteration 70, a: 9.405011696323089e-11, b: 7.019444696901468e-07, grad_a: -1.2379479054510975e-09, grad_b: -9.209750729995284e-06\n",
      "Iteration 80, a: 1.0630058997991796e-10, b: 7.930349585822385e-07, grad_a: -1.2145624882214925e-09, grad_b: -9.027204656919824e-06\n",
      "Iteration 90, a: 1.1831976584678717e-10, b: 8.8231994681211e-07, grad_a: -1.191640592222975e-09, grad_b: -8.848276821704845e-06\n",
      "error\n",
      "Mean Absolute Error: 1.0924245904555557e-06\n",
      "Root Mean Squared Error: 5.259551661622197e-05\n"
     ]
    }
   ],
   "source": [
    "import numpy as np\n",
    "import pandas as pd\n",
    "import os\n",
    "from sklearn.model_selection import train_test_split\n",
    "\n",
    "\n",
    "rawdata = pd.read_csv('/Users/sanjitk./Desktop/CMCVutd/housing_train.csv')\n",
    "\n",
    "\n",
    "\n",
    "X_train, X_test, Y_train, Y_test = train_test_split(rawdata['sqfeet'].values, rawdata['price'].values, test_size=0.2, random_state=42)\n",
    "X_test, Y_test, X_val, Y_val = train_test_split(X_test, Y_test, test_size=0.5, random_state=42)\n",
    "n_train = len(X_train)\n",
    "\n",
    "\n",
    "#normalize the data\n",
    "maximum_X_train = np.max(X_train)\n",
    "\n",
    "X_train = (X_train) / maximum_X_train\n",
    "X_test = (X_test) / maximum_X_train\n",
    "X_val = (X_val) / maximum_X_train\n",
    "\n",
    "maximum_Y_train = np.max(Y_train)\n",
    "\n",
    "Y_train = Y_train / maximum_Y_train\n",
    "Y_test = Y_test / maximum_Y_train\n",
    "Y_val = Y_val / maximum_Y_train\n",
    "\n",
    "\n",
    "a = 0\n",
    "b = 0\n",
    "learnrate = 0.001 \n",
    "iterations = 100\n",
    "\n",
    "for t in range(iterations):\n",
    "    grad_a = 0\n",
    "    grad_b = 0\n",
    "    for m in range(n_train):\n",
    "        y_pred = a * X_train[m] + b\n",
    "        error = y_pred - Y_train[m]\n",
    "        grad_a += error * X_train[m]\n",
    "        grad_b += error\n",
    "    grad_a = (1 / n_train) * grad_a * 2\n",
    "    grad_b = (1 / n_train) * grad_b * 2\n",
    "    a = a - learnrate * grad_a\n",
    "    b = b - learnrate * grad_b\n",
    "    if t % 10 == 0:\n",
    "        print(f'Iteration {t}, a: {a}, b: {b}, grad_a: {grad_a}, grad_b: {grad_b}')\n",
    "\n",
    "y_pred_test = a * X_val + b\n",
    "print('error')\n",
    "print(\"Mean Absolute Error:\", np.mean(np.abs(y_pred_test - Y_val)))\n",
    "print(\"Root Mean Squared Error:\", np.sqrt(np.mean((y_pred_test - Y_val) ** 2)))\n",
    "\n",
    "\n",
    "\n",
    "\n",
    "\n"
   ]
  }
 ],
 "metadata": {
  "kernelspec": {
   "display_name": ".venv",
   "language": "python",
   "name": "python3"
  },
  "language_info": {
   "codemirror_mode": {
    "name": "ipython",
    "version": 3
   },
   "file_extension": ".py",
   "mimetype": "text/x-python",
   "name": "python",
   "nbconvert_exporter": "python",
   "pygments_lexer": "ipython3",
   "version": "3.13.1"
  }
 },
 "nbformat": 4,
 "nbformat_minor": 5
}
